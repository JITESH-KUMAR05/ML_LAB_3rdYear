{
 "cells": [
  {
   "cell_type": "markdown",
   "id": "f4d2ed01",
   "metadata": {},
   "source": [
    "## We will implement the Adaboost algorithm from scratch using Python"
   ]
  },
  {
   "cell_type": "code",
   "execution_count": 1,
   "id": "fcc2e111",
   "metadata": {},
   "outputs": [
    {
     "name": "stdout",
     "output_type": "stream",
     "text": [
      "We will implement the Adaboost algorithm from scratch using Python\n"
     ]
    }
   ],
   "source": [
    "print(\"We will implement the Adaboost algorithm from scratch using Python\")"
   ]
  },
  {
   "cell_type": "code",
   "execution_count": null,
   "id": "b8fbbed9",
   "metadata": {},
   "outputs": [],
   "source": []
  }
 ],
 "metadata": {
  "kernelspec": {
   "display_name": "ML_LAB_3rdYear",
   "language": "python",
   "name": "python3"
  },
  "language_info": {
   "codemirror_mode": {
    "name": "ipython",
    "version": 3
   },
   "file_extension": ".py",
   "mimetype": "text/x-python",
   "name": "python",
   "nbconvert_exporter": "python",
   "pygments_lexer": "ipython3",
   "version": "3.12.1"
  }
 },
 "nbformat": 4,
 "nbformat_minor": 5
}
