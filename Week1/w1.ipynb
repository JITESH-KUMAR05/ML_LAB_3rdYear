{
 "cells": [
  {
   "cell_type": "code",
   "execution_count": 1,
   "id": "49014195",
   "metadata": {},
   "outputs": [],
   "source": [
    "import pandas as pd\n",
    "import numpy as np"
   ]
  },
  {
   "cell_type": "code",
   "execution_count": 4,
   "id": "47765831",
   "metadata": {},
   "outputs": [
    {
     "name": "stdout",
     "output_type": "stream",
     "text": [
      "a1:\n",
      " [[1 1]\n",
      " [2 2]]\n",
      "a2:\n",
      " [[3 3]\n",
      " [4 4]]\n",
      "a1 + a2:\n",
      " [[4 4]\n",
      " [6 6]]\n",
      "a1 - a2:\n",
      " [[2 2]\n",
      " [2 2]]\n",
      "a1 * a2:\n",
      " [[3 3]\n",
      " [8 8]]\n",
      "a1 / a2:\n",
      " [[3. 3.]\n",
      " [2. 2.]]\n",
      "transpose of a1:\n",
      " [[1 2]\n",
      " [1 2]]\n",
      "transpose of a2:\n",
      " [[3 4]\n",
      " [3 4]]\n"
     ]
    }
   ],
   "source": [
    "a1 = np.array([[1,1],[2,2]])\n",
    "a2 = np.array([[3,3],[4,4]])\n",
    "print(\"a1:\\n\", a1)\n",
    "print(\"a2:\\n\", a2)\n",
    "print(\"a1 + a2:\\n\", a1 + a2)\n",
    "print(\"a1 - a2:\\n\", a2 - a1)\n",
    "print(\"a1 * a2:\\n\", a1 * a2)\n",
    "print(\"a1 / a2:\\n\", a2 / a1)\n",
    "print(\"transpose of a1:\\n\", a1.transpose())\n",
    "print(\"transpose of a2:\\n\", a2.T)"
   ]
  },
  {
   "cell_type": "code",
   "execution_count": null,
   "id": "d500905b",
   "metadata": {},
   "outputs": [],
   "source": []
  }
 ],
 "metadata": {
  "kernelspec": {
   "display_name": "ML_LAB_3rdYear",
   "language": "python",
   "name": "python3"
  },
  "language_info": {
   "codemirror_mode": {
    "name": "ipython",
    "version": 3
   },
   "file_extension": ".py",
   "mimetype": "text/x-python",
   "name": "python",
   "nbconvert_exporter": "python",
   "pygments_lexer": "ipython3",
   "version": "3.12.11"
  }
 },
 "nbformat": 4,
 "nbformat_minor": 5
}
