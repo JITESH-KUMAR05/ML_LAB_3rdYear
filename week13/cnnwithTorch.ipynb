{
 "cells": [
  {
   "cell_type": "markdown",
   "id": "1860ff21",
   "metadata": {},
   "source": [
    "## implementing the cnn model with pytorch "
   ]
  },
  {
   "cell_type": "code",
   "execution_count": 1,
   "id": "e7902315",
   "metadata": {},
   "outputs": [],
   "source": [
    "import torch\n",
    "import torch.nn as nn\n",
    "import torch.optim as optim\n",
    "import torch.nn.functional as F\n",
    "from torch.utils.data import DataLoader, TensorDataset\n",
    "import torchvision\n",
    "import torchvision.transforms as transforms\n",
    "import matplotlib.pyplot as plt\n",
    "import numpy as np"
   ]
  },
  {
   "cell_type": "code",
   "execution_count": 2,
   "id": "5509ac26",
   "metadata": {},
   "outputs": [
    {
     "name": "stdout",
     "output_type": "stream",
     "text": [
      "Using device: cuda\n",
      "GPU: NVIDIA GeForce RTX 3050 Laptop GPU\n"
     ]
    }
   ],
   "source": [
    "# Check if CUDA is available\n",
    "device = torch.device('cuda' if torch.cuda.is_available() else 'cpu')\n",
    "print(f'Using device: {device}')\n",
    "if torch.cuda.is_available():\n",
    "    print(f'GPU: {torch.cuda.get_device_name(0)}')\n"
   ]
  },
  {
   "cell_type": "code",
   "execution_count": 7,
   "id": "92e0698b",
   "metadata": {},
   "outputs": [],
   "source": [
    "# Define the CNN model\n",
    "class CNNModel(nn.Module):\n",
    "    def __init__(self):\n",
    "        super(CNNModel, self).__init__()\n",
    "        # Convolutional layers\n",
    "        self.conv1 = nn.Conv2d(3, 32, kernel_size=3, padding=0)\n",
    "        self.pool1 = nn.MaxPool2d(kernel_size=2, stride=2)\n",
    "        \n",
    "        self.conv2 = nn.Conv2d(32, 64, kernel_size=3, padding=0)\n",
    "        self.pool2 = nn.MaxPool2d(kernel_size=2, stride=2)\n",
    "        \n",
    "        self.conv3 = nn.Conv2d(64, 64, kernel_size=3, padding=0)\n",
    "        \n",
    "        # Calculate the correct flattened size\n",
    "        # Input: 32x32x3\n",
    "        # After conv1 (3x3, no padding): 30x30x32\n",
    "        # After pool1 (2x2): 15x15x32\n",
    "        # After conv2 (3x3, no padding): 13x13x64\n",
    "        # After pool2 (2x2): 6x6x64 (6.5 -> 6)\n",
    "        # After conv3 (3x3, no padding): 4x4x64\n",
    "        \n",
    "        # Fully connected layers\n",
    "        self.flatten = nn.Flatten()\n",
    "        self.fc1 = nn.Linear(64 * 4 * 4, 64)  # Corrected: 4x4 after final conv layer\n",
    "        self.fc2 = nn.Linear(64, 10)  # 10 classes for CIFAR-10\n",
    "        \n",
    "    def forward(self, x):\n",
    "        # Conv layers with ReLU and pooling\n",
    "        x = self.pool1(F.relu(self.conv1(x)))\n",
    "        x = self.pool2(F.relu(self.conv2(x)))\n",
    "        x = F.relu(self.conv3(x))\n",
    "        \n",
    "        # Flatten and fully connected layers\n",
    "        x = self.flatten(x)\n",
    "        x = F.relu(self.fc1(x))\n",
    "        x = self.fc2(x)\n",
    "        \n",
    "        return x"
   ]
  },
  {
   "cell_type": "code",
   "execution_count": 8,
   "id": "1a2627b9",
   "metadata": {},
   "outputs": [
    {
     "name": "stdout",
     "output_type": "stream",
     "text": [
      "Model architecture:\n",
      "CNNModel(\n",
      "  (conv1): Conv2d(3, 32, kernel_size=(3, 3), stride=(1, 1))\n",
      "  (pool1): MaxPool2d(kernel_size=2, stride=2, padding=0, dilation=1, ceil_mode=False)\n",
      "  (conv2): Conv2d(32, 64, kernel_size=(3, 3), stride=(1, 1))\n",
      "  (pool2): MaxPool2d(kernel_size=2, stride=2, padding=0, dilation=1, ceil_mode=False)\n",
      "  (conv3): Conv2d(64, 64, kernel_size=(3, 3), stride=(1, 1))\n",
      "  (flatten): Flatten(start_dim=1, end_dim=-1)\n",
      "  (fc1): Linear(in_features=1024, out_features=64, bias=True)\n",
      "  (fc2): Linear(in_features=64, out_features=10, bias=True)\n",
      ")\n"
     ]
    }
   ],
   "source": [
    "# Load CIFAR-10 dataset\n",
    "transform = transforms.Compose([\n",
    "    transforms.ToTensor(),\n",
    "    transforms.Normalize((0.5, 0.5, 0.5), (0.5, 0.5, 0.5))  # Normalize to [-1, 1]\n",
    "])\n",
    "\n",
    "train_dataset = torchvision.datasets.CIFAR10(root='./data', train=True, \n",
    "                                           download=True, transform=transform)\n",
    "test_dataset = torchvision.datasets.CIFAR10(root='./data', train=False, \n",
    "                                          download=True, transform=transform)\n",
    "\n",
    "train_loader = DataLoader(train_dataset, batch_size=32, shuffle=True)\n",
    "test_loader = DataLoader(test_dataset, batch_size=32, shuffle=False)\n",
    "\n",
    "# Initialize model, loss function, and optimizer\n",
    "model = CNNModel().to(device)\n",
    "criterion = nn.CrossEntropyLoss()\n",
    "optimizer = optim.Adam(model.parameters(), lr=0.001)\n",
    "\n",
    "print(f\"Model architecture:\\n{model}\")\n"
   ]
  },
  {
   "cell_type": "code",
   "execution_count": 9,
   "id": "8bc5f62f",
   "metadata": {},
   "outputs": [],
   "source": [
    "# Training function\n",
    "def train_model(model, train_loader, test_loader, epochs=10):\n",
    "    train_losses = []\n",
    "    train_accuracies = []\n",
    "    val_accuracies = []\n",
    "    \n",
    "    for epoch in range(epochs):\n",
    "        model.train()\n",
    "        running_loss = 0.0\n",
    "        correct = 0\n",
    "        total = 0\n",
    "        \n",
    "        for batch_idx, (data, target) in enumerate(train_loader):\n",
    "            data, target = data.to(device), target.to(device)\n",
    "            \n",
    "            optimizer.zero_grad()\n",
    "            output = model(data)\n",
    "            loss = criterion(output, target)\n",
    "            loss.backward()\n",
    "            optimizer.step()\n",
    "            \n",
    "            running_loss += loss.item()\n",
    "            _, predicted = torch.max(output.data, 1)\n",
    "            total += target.size(0)\n",
    "            correct += (predicted == target).sum().item()\n",
    "            \n",
    "            if batch_idx % 500 == 0:\n",
    "                print(f'Epoch {epoch+1}/{epochs}, Batch {batch_idx}, '\n",
    "                      f'Loss: {loss.item():.4f}')\n",
    "        \n",
    "        train_accuracy = 100 * correct / total\n",
    "        train_losses.append(running_loss / len(train_loader))\n",
    "        train_accuracies.append(train_accuracy)\n",
    "        \n",
    "        # Validation\n",
    "        val_accuracy = evaluate_model(model, test_loader)\n",
    "        val_accuracies.append(val_accuracy)\n",
    "        \n",
    "        print(f'Epoch {epoch+1}/{epochs}: '\n",
    "              f'Train Loss: {running_loss/len(train_loader):.4f}, '\n",
    "              f'Train Acc: {train_accuracy:.2f}%, '\n",
    "              f'Val Acc: {val_accuracy:.2f}%')\n",
    "    \n",
    "    return train_losses, train_accuracies, val_accuracies\n"
   ]
  },
  {
   "cell_type": "code",
   "execution_count": 10,
   "id": "8634d52f",
   "metadata": {},
   "outputs": [
    {
     "name": "stdout",
     "output_type": "stream",
     "text": [
      "Starting training...\n",
      "Epoch 1/10, Batch 0, Loss: 2.2927\n",
      "Epoch 1/10, Batch 500, Loss: 1.2394\n",
      "Epoch 1/10, Batch 1000, Loss: 1.2157\n",
      "Epoch 1/10, Batch 1500, Loss: 1.3143\n",
      "Epoch 1/10: Train Loss: 1.4655, Train Acc: 46.35%, Val Acc: 55.83%\n",
      "Epoch 2/10, Batch 0, Loss: 0.9512\n",
      "Epoch 2/10, Batch 500, Loss: 1.0489\n",
      "Epoch 2/10, Batch 1000, Loss: 0.9868\n",
      "Epoch 2/10, Batch 1500, Loss: 1.0499\n",
      "Epoch 2/10: Train Loss: 1.0914, Train Acc: 61.38%, Val Acc: 65.44%\n",
      "Epoch 3/10, Batch 0, Loss: 0.8748\n",
      "Epoch 3/10, Batch 500, Loss: 1.2337\n",
      "Epoch 3/10, Batch 1000, Loss: 1.0090\n",
      "Epoch 3/10, Batch 1500, Loss: 1.3981\n",
      "Epoch 3/10: Train Loss: 0.9143, Train Acc: 67.83%, Val Acc: 66.81%\n",
      "Epoch 4/10, Batch 0, Loss: 0.9149\n",
      "Epoch 4/10, Batch 500, Loss: 0.6376\n",
      "Epoch 4/10, Batch 1000, Loss: 0.7986\n",
      "Epoch 4/10, Batch 1500, Loss: 0.6152\n",
      "Epoch 4/10: Train Loss: 0.8098, Train Acc: 71.49%, Val Acc: 71.12%\n",
      "Epoch 5/10, Batch 0, Loss: 0.9064\n",
      "Epoch 5/10, Batch 500, Loss: 1.1774\n",
      "Epoch 5/10, Batch 1000, Loss: 0.4471\n",
      "Epoch 5/10, Batch 1500, Loss: 0.6189\n",
      "Epoch 5/10: Train Loss: 0.7364, Train Acc: 74.30%, Val Acc: 70.27%\n",
      "Epoch 6/10, Batch 0, Loss: 0.6133\n",
      "Epoch 6/10, Batch 500, Loss: 0.5390\n",
      "Epoch 6/10, Batch 1000, Loss: 0.7296\n",
      "Epoch 6/10, Batch 1500, Loss: 1.1759\n",
      "Epoch 6/10: Train Loss: 0.6795, Train Acc: 76.00%, Val Acc: 71.58%\n",
      "Epoch 7/10, Batch 0, Loss: 0.8604\n",
      "Epoch 7/10, Batch 500, Loss: 0.3652\n",
      "Epoch 7/10, Batch 1000, Loss: 0.7985\n",
      "Epoch 7/10, Batch 1500, Loss: 0.3877\n",
      "Epoch 7/10: Train Loss: 0.6305, Train Acc: 77.83%, Val Acc: 71.98%\n",
      "Epoch 8/10, Batch 0, Loss: 0.5654\n",
      "Epoch 8/10, Batch 500, Loss: 0.7256\n",
      "Epoch 8/10, Batch 1000, Loss: 0.5962\n",
      "Epoch 8/10, Batch 1500, Loss: 0.6005\n",
      "Epoch 8/10: Train Loss: 0.5856, Train Acc: 79.34%, Val Acc: 71.41%\n",
      "Epoch 9/10, Batch 0, Loss: 0.8560\n",
      "Epoch 9/10, Batch 500, Loss: 0.6275\n",
      "Epoch 9/10, Batch 1000, Loss: 0.3490\n",
      "Epoch 9/10, Batch 1500, Loss: 0.2918\n",
      "Epoch 9/10: Train Loss: 0.5434, Train Acc: 80.67%, Val Acc: 72.83%\n",
      "Epoch 10/10, Batch 0, Loss: 0.2743\n",
      "Epoch 10/10, Batch 500, Loss: 0.7067\n",
      "Epoch 10/10, Batch 1000, Loss: 0.4676\n",
      "Epoch 10/10, Batch 1500, Loss: 0.2719\n",
      "Epoch 10/10: Train Loss: 0.5070, Train Acc: 82.03%, Val Acc: 72.51%\n",
      "\n",
      "Final Test Accuracy: 72.51%\n"
     ]
    }
   ],
   "source": [
    "# Evaluation function\n",
    "def evaluate_model(model, test_loader):\n",
    "    model.eval()\n",
    "    correct = 0\n",
    "    total = 0\n",
    "    \n",
    "    with torch.no_grad():\n",
    "        for data, target in test_loader:\n",
    "            data, target = data.to(device), target.to(device)\n",
    "            output = model(data)\n",
    "            _, predicted = torch.max(output, 1)\n",
    "            total += target.size(0)\n",
    "            correct += (predicted == target).sum().item()\n",
    "    \n",
    "    accuracy = 100 * correct / total\n",
    "    return accuracy\n",
    "\n",
    "# Train the model\n",
    "print(\"Starting training...\")\n",
    "train_losses, train_accuracies, val_accuracies = train_model(model, train_loader, test_loader, epochs=10)\n",
    "\n",
    "# Final evaluation\n",
    "final_accuracy = evaluate_model(model, test_loader)\n",
    "print(f'\\nFinal Test Accuracy: {final_accuracy:.2f}%')\n"
   ]
  },
  {
   "cell_type": "code",
   "execution_count": 11,
   "id": "ca2c49d3",
   "metadata": {},
   "outputs": [
    {
     "data": {
      "image/png": "[encoded data removed]",
      "text/plain": [
       "<Figure size 1200x400 with 2 Axes>"
      ]
     },
     "metadata": {},
     "output_type": "display_data"
    }
   ],
   "source": [
    "# Plot training history\n",
    "plt.figure(figsize=(12, 4))\n",
    "\n",
    "plt.subplot(1, 2, 1)\n",
    "plt.plot(train_losses)\n",
    "plt.title('Training Loss')\n",
    "plt.xlabel('Epoch')\n",
    "plt.ylabel('Loss')\n",
    "\n",
    "plt.subplot(1, 2, 2)\n",
    "plt.plot(train_accuracies, label='Train Accuracy')\n",
    "plt.plot(val_accuracies, label='Validation Accuracy')\n",
    "plt.title('Model Accuracy')\n",
    "plt.xlabel('Epoch')\n",
    "plt.ylabel('Accuracy (%)')\n",
    "plt.legend()\n",
    "\n",
    "plt.tight_layout()\n",
    "plt.show()"
   ]
  },
  {
   "cell_type": "code",
   "execution_count": null,
   "id": "30bd66b2",
   "metadata": {},
   "outputs": [],
   "source": []
  }
 ],
 "metadata": {
  "kernelspec": {
   "display_name": "ML_LAB_3rdYear",
   "language": "python",
   "name": "python3"
  },
  "language_info": {
   "codemirror_mode": {
    "name": "ipython",
    "version": 3
   },
   "file_extension": ".py",
   "mimetype": "text/x-python",
   "name": "python",
   "nbconvert_exporter": "python",
   "pygments_lexer": "ipython3",
   "version": "3.12.11"
  }
 },
 "nbformat": 4,
 "nbformat_minor": 5
}
